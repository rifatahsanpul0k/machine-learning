{
 "cells": [
  {
   "cell_type": "markdown",
   "id": "0c7dfbef",
   "metadata": {},
   "source": [
    "# Data Preprocessing tools"
   ]
  },
  {
   "cell_type": "markdown",
   "id": "cfc7d86f",
   "metadata": {},
   "source": [
    "### Importing the libraries"
   ]
  },
  {
   "cell_type": "code",
   "execution_count": null,
   "id": "64e67c98",
   "metadata": {},
   "outputs": [],
   "source": [
    "import pandas as pd\n",
    "import numpy as np\n",
    "from sklearn.preprocessing import LabelEncoder\n",
    "from sklearn.model_selection import train_test_split\n"
   ]
  },
  {
   "cell_type": "markdown",
   "id": "40663a06",
   "metadata": {},
   "source": [
    "### Importing the dataset"
   ]
  },
  {
   "cell_type": "code",
   "execution_count": 5,
   "id": "b043ced6",
   "metadata": {},
   "outputs": [
    {
     "name": "stdout",
     "output_type": "stream",
     "text": [
      "[[3 'male' 22.0 1 'Third' False]\n",
      " [1 'female' 38.0 1 'First' False]\n",
      " [3 'female' 26.0 0 'Third' True]\n",
      " ...\n",
      " [3 'female' nan 1 'Third' False]\n",
      " [1 'male' 26.0 0 'First' True]\n",
      " [3 'male' 32.0 0 'Third' True]]\n"
     ]
    }
   ],
   "source": [
    "df = pd.read_csv('titanic_data.csv')\n",
    "\n",
    "\n",
    "df.drop(['deck','alive','embark_town','who','adult_male','parch','fare','embarked'], axis=1, inplace=True)\n",
    "\n",
    "X = df.drop(['survived'], axis=1).values\n",
    "y = df['survived'].values\n",
    "\n",
    "print(X)\n",
    "\n"
   ]
  },
  {
   "cell_type": "markdown",
   "id": "9c244adc",
   "metadata": {},
   "source": [
    "### Taking care of the missing data"
   ]
  },
  {
   "cell_type": "code",
   "execution_count": null,
   "id": "38bf14ad",
   "metadata": {},
   "outputs": [],
   "source": [
    "from sklearn.impute import SimpleImputer\n",
    "\n",
    "imputer = SimpleImputer(strategy='mean')\n",
    "X[:,2:3] = imputer.fit_transform(X[:,2:3])"
   ]
  },
  {
   "cell_type": "markdown",
   "id": "270b3ac9",
   "metadata": {},
   "source": [
    "## Encoding Categorical Data"
   ]
  },
  {
   "cell_type": "code",
   "execution_count": null,
   "id": "597a4b20",
   "metadata": {},
   "outputs": [],
   "source": []
  }
 ],
 "metadata": {
  "kernelspec": {
   "display_name": ".venv",
   "language": "python",
   "name": "python3"
  },
  "language_info": {
   "codemirror_mode": {
    "name": "ipython",
    "version": 3
   },
   "file_extension": ".py",
   "mimetype": "text/x-python",
   "name": "python",
   "nbconvert_exporter": "python",
   "pygments_lexer": "ipython3",
   "version": "3.9.6"
  }
 },
 "nbformat": 4,
 "nbformat_minor": 5
}
